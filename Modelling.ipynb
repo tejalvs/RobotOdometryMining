{
  "nbformat": 4,
  "nbformat_minor": 0,
  "metadata": {
    "colab": {
      "name": "Modelling.ipynb",
      "provenance": [],
      "authorship_tag": "ABX9TyNMqDk+wPMRHFe++g791pi0",
      "include_colab_link": true
    },
    "kernelspec": {
      "name": "python3",
      "display_name": "Python 3"
    },
    "language_info": {
      "name": "python"
    },
    "accelerator": "TPU"
  },
  "cells": [
    {
      "cell_type": "markdown",
      "metadata": {
        "id": "view-in-github",
        "colab_type": "text"
      },
      "source": [
        "<a href=\"https://colab.research.google.com/github/tejalvs/RobotOdometryMining/blob/main/Modelling.ipynb\" target=\"_parent\"><img src=\"https://colab.research.google.com/assets/colab-badge.svg\" alt=\"Open In Colab\"/></a>"
      ]
    },
    {
      "cell_type": "code",
      "metadata": {
        "id": "wYmPXY1BLsw0"
      },
      "source": [
        "import os\n",
        "import pandas as pd\n",
        "import numpy as np\n",
        "import matplotlib.pyplot as plt\n",
        "import seaborn as sns\n",
        "from sklearn.metrics import confusion_matrix\n",
        "import plotly.express as px"
      ],
      "execution_count": 1,
      "outputs": []
    },
    {
      "cell_type": "code",
      "metadata": {
        "colab": {
          "base_uri": "https://localhost:8080/"
        },
        "id": "GHyGoLgWL0nI",
        "outputId": "5ca88ded-76b6-4014-8e94-2ac6ef29babe"
      },
      "source": [
        "from google.colab import drive\n",
        "drive.mount('/content/drive')"
      ],
      "execution_count": 2,
      "outputs": [
        {
          "output_type": "stream",
          "name": "stdout",
          "text": [
            "Mounted at /content/drive\n"
          ]
        }
      ]
    },
    {
      "cell_type": "code",
      "metadata": {
        "id": "Mh9FgoEWL5Rf"
      },
      "source": [
        "roomba_data=pd.read_csv('/content/drive/MyDrive/RoombaData_XY_cleaned.csv')\n",
        "mobile_robot_data=pd.read_csv('/content/drive/MyDrive/MobileRobot_XY_cleaned.csv')"
      ],
      "execution_count": 3,
      "outputs": []
    },
    {
      "cell_type": "code",
      "metadata": {
        "colab": {
          "base_uri": "https://localhost:8080/",
          "height": 279
        },
        "id": "aJtlRfzvL8ZL",
        "outputId": "74e10fb8-e13e-4b87-e792-872afcce452e"
      },
      "source": [
        "X = roomba_data[[\"X_error\",\"Y_error\"]]\n",
        "#Visualise data points\n",
        "plt.scatter(X[\"X_error\"],X[\"Y_error\"],c='black')\n",
        "plt.xlabel('AnnualIncome')\n",
        "plt.ylabel('Loan Amount (In Thousands)')\n",
        "plt.show()"
      ],
      "execution_count": 4,
      "outputs": [
        {
          "output_type": "display_data",
          "data": {
            "image/png": "[encoded data removed]",
            "text/plain": [
              "<Figure size 432x288 with 1 Axes>"
            ]
          },
          "metadata": {
            "needs_background": "light"
          }
        }
      ]
    },
    {
      "cell_type": "code",
      "metadata": {
        "colab": {
          "base_uri": "https://localhost:8080/",
          "height": 279
        },
        "id": "SEshUWUbMCc6",
        "outputId": "6b1e3445-c8c5-4409-fb89-1ff3535d5b85"
      },
      "source": [
        "K=2\n",
        "\n",
        "# Select random observation as centroids\n",
        "Centroids = (X.sample(n=K))\n",
        "plt.scatter(X[\"X_error\"],X[\"Y_error\"],c='black')\n",
        "plt.scatter(Centroids[\"X_error\"],Centroids[\"Y_error\"],c='red')\n",
        "plt.xlabel('AnnualIncome')\n",
        "plt.ylabel('Loan Amount (In Thousands)')\n",
        "plt.show()"
      ],
      "execution_count": 5,
      "outputs": [
        {
          "output_type": "display_data",
          "data": {
            "image/png": "[encoded data removed]",
            "text/plain": [
              "<Figure size 432x288 with 1 Axes>"
            ]
          },
          "metadata": {
            "needs_background": "light"
          }
        }
      ]
    },
    {
      "cell_type": "code",
      "metadata": {
        "colab": {
          "base_uri": "https://localhost:8080/"
        },
        "id": "zOCRJEF_MGEb",
        "outputId": "6c5b277d-75e3-45a2-d6e0-5c4408825c28"
      },
      "source": [
        "diff = 1\n",
        "j=0\n",
        "\n",
        "while(diff!=0):\n",
        "    XD=X\n",
        "    i=1\n",
        "    for index1,row_c in Centroids.iterrows():\n",
        "        ED=[]\n",
        "        for index2,row_d in XD.iterrows():\n",
        "            d1=(row_c[\"X_error\"]-row_d[\"X_error\"])**2\n",
        "            d2=(row_c[\"Y_error\"]-row_d[\"Y_error\"])**2\n",
        "            d=np.sqrt(d1+d2)\n",
        "            ED.append(d)\n",
        "        X[i]=ED\n",
        "        i=i+1\n",
        "\n",
        "    C=[]\n",
        "    for index,row in X.iterrows():\n",
        "        min_dist=row[1]\n",
        "        pos=1\n",
        "        for i in range(K):\n",
        "            if row[i+1] < min_dist:\n",
        "                min_dist = row[i+1]\n",
        "                pos=i+1\n",
        "        C.append(pos)\n",
        "    X[\"Cluster\"]=C\n",
        "    Centroids_new = X.groupby([\"Cluster\"]).mean()[[\"X_error\",\"Y_error\"]]\n",
        "    if j == 0:\n",
        "        diff=1\n",
        "        j=j+1\n",
        "    else:\n",
        "        diff = (Centroids_new['Y_error'] - Centroids['Y_error']).sum() + (Centroids_new['X_error'] - Centroids['Y_error']).sum()\n",
        "        print(diff.sum())\n",
        "    Centroids = X.groupby([\"Cluster\"]).mean()[[\"Y_error\",\"X_error\"]]"
      ],
      "execution_count": null,
      "outputs": [
        {
          "output_type": "stream",
          "name": "stderr",
          "text": [
            "/usr/local/lib/python3.7/dist-packages/ipykernel_launcher.py:14: SettingWithCopyWarning:\n",
            "\n",
            "\n",
            "A value is trying to be set on a copy of a slice from a DataFrame.\n",
            "Try using .loc[row_indexer,col_indexer] = value instead\n",
            "\n",
            "See the caveats in the documentation: https://pandas.pydata.org/pandas-docs/stable/user_guide/indexing.html#returning-a-view-versus-a-copy\n",
            "\n",
            "/usr/local/lib/python3.7/dist-packages/ipykernel_launcher.py:26: SettingWithCopyWarning:\n",
            "\n",
            "\n",
            "A value is trying to be set on a copy of a slice from a DataFrame.\n",
            "Try using .loc[row_indexer,col_indexer] = value instead\n",
            "\n",
            "See the caveats in the documentation: https://pandas.pydata.org/pandas-docs/stable/user_guide/indexing.html#returning-a-view-versus-a-copy\n",
            "\n"
          ]
        },
        {
          "output_type": "stream",
          "name": "stdout",
          "text": [
            "1.794124008613159\n",
            "1.847881096347298\n",
            "1.8616231527281843\n",
            "1.8674935477821366\n",
            "1.8698797733411388\n",
            "1.8698797733411388\n",
            "1.8698797733411388\n",
            "1.8698797733411388\n",
            "1.8698797733411388\n",
            "1.8698797733411388\n",
            "1.8698797733411388\n",
            "1.8698797733411388\n",
            "1.8698797733411388\n",
            "1.8698797733411388\n",
            "1.8698797733411388\n",
            "1.8698797733411388\n",
            "1.8698797733411388\n",
            "1.8698797733411388\n",
            "1.8698797733411388\n",
            "1.8698797733411388\n",
            "1.8698797733411388\n",
            "1.8698797733411388\n",
            "1.8698797733411388\n",
            "1.8698797733411388\n",
            "1.8698797733411388\n",
            "1.8698797733411388\n",
            "1.8698797733411388\n",
            "1.8698797733411388\n",
            "1.8698797733411388\n",
            "1.8698797733411388\n",
            "1.8698797733411388\n",
            "1.8698797733411388\n",
            "1.8698797733411388\n",
            "1.8698797733411388\n",
            "1.8698797733411388\n",
            "1.8698797733411388\n",
            "1.8698797733411388\n",
            "1.8698797733411388\n",
            "1.8698797733411388\n",
            "1.8698797733411388\n",
            "1.8698797733411388\n",
            "1.8698797733411388\n",
            "1.8698797733411388\n",
            "1.8698797733411388\n",
            "1.8698797733411388\n",
            "1.8698797733411388\n",
            "1.8698797733411388\n",
            "1.8698797733411388\n",
            "1.8698797733411388\n",
            "1.8698797733411388\n",
            "1.8698797733411388\n",
            "1.8698797733411388\n",
            "1.8698797733411388\n",
            "1.8698797733411388\n",
            "1.8698797733411388\n"
          ]
        }
      ]
    },
    {
      "cell_type": "code",
      "metadata": {
        "id": "k5PcHkSKMGe_"
      },
      "source": [
        "color=['blue','green']\n",
        "for k in range(K):\n",
        "    data=X[X[\"Cluster\"]==k+1]\n",
        "    plt.scatter(data[\"X_error\"],data[\"Y_error\"],c=color[k])\n",
        "plt.scatter(Centroids[\"X_error\"],Centroids[\"Y_error\"],c='red')\n",
        "# plt.xlabel('Income')\n",
        "# plt.ylabel('Loan Amount (In Thousands)')\n",
        "plt.show()"
      ],
      "execution_count": null,
      "outputs": []
    },
    {
      "cell_type": "code",
      "metadata": {
        "id": "lBnMOZGoMGsP"
      },
      "source": [
        ""
      ],
      "execution_count": null,
      "outputs": []
    }
  ]
}