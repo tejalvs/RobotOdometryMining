{
 "cells": [
  {
   "cell_type": "code",
   "execution_count": 1,
   "metadata": {},
   "outputs": [],
   "source": [
    "import os\n",
    "import pandas as pd\n",
    "import numpy as np\n",
    "import matplotlib.pyplot as plt\n",
    "import seaborn as sns\n",
    "from sklearn.metrics import confusion_matrix\n",
    "import plotly.express as px"
   ]
  },
  {
   "cell_type": "code",
   "execution_count": 2,
   "metadata": {},
   "outputs": [],
   "source": [
    "def create_data_frame(line,surface_type):\n",
    "    returnVal=None\n",
    "    ifGroundTruth=False\n",
    "    if 'Odometry:Pose' in line: \n",
    "        line=line.replace('[rosout][INFO]','').strip()\n",
    "        line=line.split(': Odometry:Pose information ')\n",
    "        date=line[0].split(' ')[0]\n",
    "        time=line[0].split(' ')[1]\n",
    "        x=line[1].split(',')[0].replace('x=','')\n",
    "        y=line[1].split(',')[1].replace('y=','')\n",
    "        theta=line[1].split(',')[2].replace('theta=','')\n",
    "        v=line[1].split(',')[3].replace('velocity=','')\n",
    "        o=line[1].split(',')[4].replace('omega=','')\n",
    "        d=line[1].split(',')[5].replace('distance_travelled=','')\n",
    "        returnVal = {'Date':date,'Time':time, 'X':float(x),'Y':float(y),'Theta':float(theta),'Velocity':float(v),'Omega':float(o),'Odometry_Distance':float(d),'Surface_Type':surface_type}\n",
    "    elif ' Scan Data: Distance Travelled' in line:\n",
    "        line=line.replace('[rosout][INFO]','').strip()\n",
    "        line=line.split(': Scan Data: ')\n",
    "        date=line[0].split(' ')[0]\n",
    "        time=line[0].split(' ')[1]\n",
    "        ground_truth=line[1].split(',')[0].replace('Distance Travelled=','')\n",
    "        error=line[1].split(',')[1].replace('Error=','')\n",
    "        returnVal={'Ground_Truth_Distance':float(ground_truth),'Error':float(error)}\n",
    "        ifGroundTruth=True\n",
    "    return returnVal,ifGroundTruth\n",
    "\n",
    "\n",
    "def create_CSV(path,surface_type):\n",
    "    df_individiual = pd.DataFrame(columns=['Date','Time', 'X','Y','Theta','Velocity','Omega','Odometry_Distance','Ground_Truth_Distance','Error','Surface_Type']) \n",
    "    with open(path) as f:\n",
    "            f = f.readlines()\n",
    "            prevOdoData = None\n",
    "            groundTruthVal = []\n",
    "            errorVal=[]\n",
    "            for line in f:\n",
    "                print(line)\n",
    "                if line.startswith( '[rosout][INFO]' ):\n",
    "                    value_dict,ifGroundTruth = create_data_frame(line,surface_type)\n",
    "                    if not ifGroundTruth and value_dict != None:\n",
    "                        if(prevOdoData != None and len(groundTruthVal) > 0):\n",
    "                            prevOdoData[\"Ground_Truth_Distance\"] = sum(groundTruthVal)/len(groundTruthVal)\n",
    "                            prevOdoData[\"Error\"] = sum(errorVal)/len(errorVal)\n",
    "                        df_individiual=df_individiual.append(prevOdoData,ignore_index=True)\n",
    "                        prevOdoData = value_dict\n",
    "                        groundTruthVal = []\n",
    "                        errorVal = []\n",
    "                    elif(value_dict != None):\n",
    "                        groundTruthVal.append(value_dict['Ground_Truth_Distance'])\n",
    "                        errorVal.append(value_dict['Error'])\n",
    "    return df_individiual\n",
    "    "
   ]
  },
  {
   "cell_type": "code",
   "execution_count": 3,
   "metadata": {},
   "outputs": [
    {
     "ename": "NotADirectoryError",
     "evalue": "[Errno 20] Not a directory: 'LOGS/.DS_Store'",
     "output_type": "error",
     "traceback": [
      "\u001b[0;31m---------------------------------------------------------------------------\u001b[0m",
      "\u001b[0;31mNotADirectoryError\u001b[0m                        Traceback (most recent call last)",
      "\u001b[0;32m<ipython-input-3-d719af23d869>\u001b[0m in \u001b[0;36m<module>\u001b[0;34m\u001b[0m\n\u001b[1;32m      3\u001b[0m \u001b[0mdf_all_data\u001b[0m \u001b[0;34m=\u001b[0m \u001b[0mpd\u001b[0m\u001b[0;34m.\u001b[0m\u001b[0mDataFrame\u001b[0m\u001b[0;34m(\u001b[0m\u001b[0mcolumns\u001b[0m\u001b[0;34m=\u001b[0m\u001b[0;34m[\u001b[0m\u001b[0;34m'Date'\u001b[0m\u001b[0;34m,\u001b[0m\u001b[0;34m'Time'\u001b[0m\u001b[0;34m,\u001b[0m \u001b[0;34m'X'\u001b[0m\u001b[0;34m,\u001b[0m\u001b[0;34m'Y'\u001b[0m\u001b[0;34m,\u001b[0m\u001b[0;34m'Theta'\u001b[0m\u001b[0;34m,\u001b[0m\u001b[0;34m'Velocity'\u001b[0m\u001b[0;34m,\u001b[0m\u001b[0;34m'Omega'\u001b[0m\u001b[0;34m,\u001b[0m\u001b[0;34m'Odometry_Distance'\u001b[0m\u001b[0;34m,\u001b[0m\u001b[0;34m'Ground_Truth_Distance'\u001b[0m\u001b[0;34m,\u001b[0m\u001b[0;34m'Error'\u001b[0m\u001b[0;34m,\u001b[0m\u001b[0;34m'Surface_Type'\u001b[0m\u001b[0;34m]\u001b[0m\u001b[0;34m)\u001b[0m\u001b[0;34m\u001b[0m\u001b[0;34m\u001b[0m\u001b[0m\n\u001b[1;32m      4\u001b[0m \u001b[0;32mfor\u001b[0m \u001b[0msurface_type\u001b[0m \u001b[0;32min\u001b[0m \u001b[0msurface\u001b[0m\u001b[0;34m:\u001b[0m\u001b[0;34m\u001b[0m\u001b[0;34m\u001b[0m\u001b[0m\n\u001b[0;32m----> 5\u001b[0;31m     \u001b[0mfiles\u001b[0m\u001b[0;34m=\u001b[0m\u001b[0mos\u001b[0m\u001b[0;34m.\u001b[0m\u001b[0mlistdir\u001b[0m\u001b[0;34m(\u001b[0m \u001b[0mpath\u001b[0m\u001b[0;34m+\u001b[0m\u001b[0msurface_type\u001b[0m \u001b[0;34m)\u001b[0m\u001b[0;34m\u001b[0m\u001b[0;34m\u001b[0m\u001b[0m\n\u001b[0m\u001b[1;32m      6\u001b[0m     \u001b[0;32mfor\u001b[0m \u001b[0mfile_index\u001b[0m \u001b[0;32min\u001b[0m \u001b[0mrange\u001b[0m\u001b[0;34m(\u001b[0m\u001b[0mlen\u001b[0m\u001b[0;34m(\u001b[0m\u001b[0mfiles\u001b[0m\u001b[0;34m)\u001b[0m\u001b[0;34m)\u001b[0m\u001b[0;34m:\u001b[0m\u001b[0;34m\u001b[0m\u001b[0;34m\u001b[0m\u001b[0m\n\u001b[1;32m      7\u001b[0m         \u001b[0mpath_test\u001b[0m\u001b[0;34m=\u001b[0m\u001b[0mpath\u001b[0m\u001b[0;34m+\u001b[0m\u001b[0msurface_type\u001b[0m\u001b[0;34m+\u001b[0m\u001b[0;34m'/'\u001b[0m\u001b[0;34m+\u001b[0m\u001b[0mfiles\u001b[0m\u001b[0;34m[\u001b[0m\u001b[0mfile_index\u001b[0m\u001b[0;34m]\u001b[0m\u001b[0;34m\u001b[0m\u001b[0;34m\u001b[0m\u001b[0m\n",
      "\u001b[0;31mNotADirectoryError\u001b[0m: [Errno 20] Not a directory: 'LOGS/.DS_Store'"
     ]
    }
   ],
   "source": [
    "path=\"LOGS/\"\n",
    "surface=os.listdir( path )\n",
    "df_all_data = pd.DataFrame(columns=['Date','Time', 'X','Y','Theta','Velocity','Omega','Odometry_Distance','Ground_Truth_Distance','Error','Surface_Type']) \n",
    "for surface_type in surface:\n",
    "    files=os.listdir( path+surface_type )\n",
    "    for file_index in range(len(files)):\n",
    "        path_test=path+surface_type+'/'+files[file_index]\n",
    "        df_individiual=create_CSV(path_test,surface_type)\n",
    "        df_individiual.to_csv('CSV/'+surface_type+str(file_index)+'.csv')\n",
    "        df_all_data=df_all_data.append(df_individiual,ignore_index=True)"
   ]
  },
  {
   "cell_type": "code",
   "execution_count": null,
   "metadata": {},
   "outputs": [],
   "source": [
    "df_all_data"
   ]
  },
  {
   "cell_type": "code",
   "execution_count": null,
   "metadata": {},
   "outputs": [],
   "source": [
    "df_all_data.shape"
   ]
  },
  {
   "cell_type": "markdown",
   "metadata": {},
   "source": [
    "### Converting the Date Time columns into datetime format as timestamp"
   ]
  },
  {
   "cell_type": "code",
   "execution_count": null,
   "metadata": {},
   "outputs": [],
   "source": [
    "df_all_data['timestamp'] = df_all_data['Date'] + ' ' + df_all_data['Time']\n",
    "df_all_data['timestamp'] = pd.to_datetime(df_all_data['timestamp'])\n",
    "df_all_data=df_all_data.drop(columns=['Date', 'Time','Omega'])\n",
    "df_all_data.to_csv('out.csv', sep=',')\n",
    "copydf = df_all_data.copy(deep=True)"
   ]
  },
  {
   "cell_type": "code",
   "execution_count": null,
   "metadata": {
    "scrolled": true
   },
   "outputs": [],
   "source": [
    "df_all_data.shape"
   ]
  },
  {
   "cell_type": "code",
   "execution_count": null,
   "metadata": {},
   "outputs": [],
   "source": [
    "df_all_data.tail(5)"
   ]
  },
  {
   "cell_type": "code",
   "execution_count": null,
   "metadata": {},
   "outputs": [],
   "source": [
    "df_all_data.head(5)"
   ]
  },
  {
   "cell_type": "markdown",
   "metadata": {},
   "source": [
    "##  Distribution of Surface type "
   ]
  },
  {
   "cell_type": "code",
   "execution_count": null,
   "metadata": {},
   "outputs": [],
   "source": [
    "target = df_all_data['Surface_Type'].value_counts().reset_index().rename(columns={'index': 'Surface Type','Surface_Type':'Count'})\n",
    "target"
   ]
  },
  {
   "cell_type": "code",
   "execution_count": null,
   "metadata": {},
   "outputs": [],
   "source": [
    "sns.countplot(y = df_all_data['Surface_Type'], data = df_all_data)\n",
    "plt.show()"
   ]
  },
  {
   "cell_type": "markdown",
   "metadata": {},
   "source": [
    "##  Preprocessing Data"
   ]
  },
  {
   "cell_type": "markdown",
   "metadata": {},
   "source": [
    "### 1. Empty  Records"
   ]
  },
  {
   "cell_type": "code",
   "execution_count": null,
   "metadata": {},
   "outputs": [],
   "source": [
    "df_all_data.isnull().sum()"
   ]
  },
  {
   "cell_type": "code",
   "execution_count": null,
   "metadata": {},
   "outputs": [],
   "source": [
    "df_all_data = df_all_data.dropna()\n",
    "df_all_data.isnull().sum()"
   ]
  },
  {
   "cell_type": "markdown",
   "metadata": {},
   "source": [
    "### 2. Duplicate  Records"
   ]
  },
  {
   "cell_type": "code",
   "execution_count": null,
   "metadata": {},
   "outputs": [],
   "source": [
    "df_all_data['is_duplicate'] = df_all_data.duplicated()\n",
    "df_all_data['is_duplicate'].value_counts()"
   ]
  },
  {
   "cell_type": "code",
   "execution_count": null,
   "metadata": {},
   "outputs": [],
   "source": [
    "df_all_data = df_all_data.drop_duplicates()"
   ]
  },
  {
   "cell_type": "code",
   "execution_count": null,
   "metadata": {},
   "outputs": [],
   "source": [
    "df_all_data.isnull().sum()"
   ]
  },
  {
   "cell_type": "code",
   "execution_count": null,
   "metadata": {},
   "outputs": [],
   "source": [
    "df_all_data=df_all_data.drop(columns=['is_duplicate'])\n",
    "df_all_data"
   ]
  },
  {
   "cell_type": "code",
   "execution_count": null,
   "metadata": {},
   "outputs": [],
   "source": [
    "corr = df_all_data.corr()\n",
    "corr"
   ]
  },
  {
   "cell_type": "code",
   "execution_count": null,
   "metadata": {},
   "outputs": [],
   "source": [
    "fig, ax = plt.subplots(1,1, figsize = (15,6))\n",
    "\n",
    "hm = sns.heatmap(df_all_data.iloc[::].corr(),\n",
    "                ax = ax,\n",
    "                cmap = 'coolwarm',\n",
    "                annot = True,\n",
    "                fmt = '.2f',\n",
    "                linewidths = 0.05)\n",
    "fig.subplots_adjust(top=0.93)\n",
    "fig.suptitle('Correlation Heatmap for dataset', \n",
    "              fontsize=14, \n",
    "              fontweight='bold')\n"
   ]
  },
  {
   "cell_type": "code",
   "execution_count": null,
   "metadata": {},
   "outputs": [],
   "source": [
    "fig = plt.figure(figsize=(15,15))\n",
    "ax = fig.add_subplot(311)\n",
    "ax.set_title('Distribution of Orientation X,Y,Theta,Valocity,Odometry,Ground Truth, Error',\n",
    "             fontsize=14, \n",
    "             fontweight='bold')\n",
    "df_all_data.iloc[:,0:7].boxplot()\n"
   ]
  },
  {
   "cell_type": "code",
   "execution_count": null,
   "metadata": {},
   "outputs": [],
   "source": [
    "plt.figure(figsize=(26, 16))\n",
    "for i, col in enumerate(df_all_data.columns[0:7]):\n",
    "    ax = plt.subplot(4, 3, i + 1)\n",
    "    sns.histplot(df_all_data[col], bins=100, label='train')"
   ]
  },
  {
   "cell_type": "code",
   "execution_count": null,
   "metadata": {},
   "outputs": [],
   "source": [
    "def clean_data(data):\n",
    "    data['timestamp'] = data['Date'] + ' ' + data['Time']\n",
    "    data['timestamp'] = pd.to_datetime(data['timestamp'])\n",
    "    data=data.drop(columns=['Date', 'Time','Omega'])\n",
    "    data = data.drop_duplicates()\n",
    "    data = data.dropna()\n",
    "    return data\n"
   ]
  },
  {
   "cell_type": "code",
   "execution_count": null,
   "metadata": {},
   "outputs": [],
   "source": [
    "data_test=pd.read_csv('CSV/tile25.csv')  \n",
    "data_test=clean_data(data_test)\n",
    "x = np.array(data_test['Error'])\n",
    "y = np.array(data_test['timestamp'])\n",
    "fig = px.line(x, y)\n",
    "fig.show()"
   ]
  },
  {
   "cell_type": "code",
   "execution_count": null,
   "metadata": {},
   "outputs": [],
   "source": [
    "fig = px.bar(data_test,x='timestamp', y=\"Error\", title=\"Error Rise Over Time\")\n",
    "fig.show()"
   ]
  },
  {
   "cell_type": "code",
   "execution_count": null,
   "metadata": {},
   "outputs": [],
   "source": [
    "data_test=pd.read_csv('CSV/tile25.csv')  \n",
    "data_test=clean_data(data_test)\n",
    "x = np.array(data_test['Error'])\n",
    "y = np.array(data_test['timestamp'])\n",
    "fig = px.line(x, y,color=data_test['Velocity'])\n",
    "fig.show()"
   ]
  },
  {
   "cell_type": "code",
   "execution_count": null,
   "metadata": {},
   "outputs": [],
   "source": [
    "fig = px.bar(data_test,x='timestamp', y=\"Error\", color=\"Velocity\", title=\"Error Rise Over Time\",color_continuous_scale='Bluered_r')\n",
    "fig.show()"
   ]
  },
  {
   "cell_type": "code",
   "execution_count": null,
   "metadata": {},
   "outputs": [],
   "source": [
    "data_test=pd.read_csv('CSV/carpet0.csv')  \n",
    "data_test=clean_data(data_test)\n",
    "x = np.array(data_test['Error'])\n",
    "y = np.array(data_test['timestamp'])\n",
    "fig = px.line(x, y,color=data_test['Velocity'])\n",
    "fig.show()"
   ]
  },
  {
   "cell_type": "code",
   "execution_count": null,
   "metadata": {},
   "outputs": [],
   "source": []
  }
 ],
 "metadata": {
  "kernelspec": {
   "display_name": "Python 3",
   "language": "python",
   "name": "python3"
  },
  "language_info": {
   "codemirror_mode": {
    "name": "ipython",
    "version": 3
   },
   "file_extension": ".py",
   "mimetype": "text/x-python",
   "name": "python",
   "nbconvert_exporter": "python",
   "pygments_lexer": "ipython3",
   "version": "3.8.5"
  }
 },
 "nbformat": 4,
 "nbformat_minor": 4
}
