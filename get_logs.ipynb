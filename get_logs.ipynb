{
 "cells": [
  {
   "cell_type": "code",
   "execution_count": 2,
   "metadata": {},
   "outputs": [],
   "source": [
    "import os\n",
    "import pandas as pd\n",
    "import numpy as np\n",
    "import matplotlib.pyplot as plt\n",
    "import seaborn as sns\n",
    "from sklearn.metrics import confusion_matrix\n",
    "import plotly.express as px"
   ]
  },
  {
   "cell_type": "code",
   "execution_count": 11,
   "metadata": {},
   "outputs": [],
   "source": [
    "def create_data_frame(line,surface_type):\n",
    "    returnVal=None\n",
    "    ifGroundTruth=False\n",
    "    if 'Odometry:Pose' in line: \n",
    "        line=line.replace('[rosout][INFO]','').strip()\n",
    "        line=line.split(': Odometry:Pose information ')\n",
    "        date=line[0].split(' ')[0]\n",
    "        time=line[0].split(' ')[1]\n",
    "        x=line[1].split(',')[0].replace('x=','')\n",
    "        y=line[1].split(',')[1].replace('y=','')\n",
    "        theta=line[1].split(',')[2].replace('theta=','')\n",
    "        v=line[1].split(',')[3].replace('velocity=','')\n",
    "        o=line[1].split(',')[4].replace('omega=','')\n",
    "        d=line[1].split(',')[5].replace('distance_travelled=','')\n",
    "        returnVal = {'Date':date,'Time':time, 'X_ODOM':float(x),'Y_ODOM':float(y),'Theta':float(theta),'Velocity':float(v),'Omega':float(o),'Odometry_Distance':float(d),'Surface_Type':surface_type}\n",
    "    elif ' Scan Data' in line:\n",
    "        line=line.replace('[rosout][INFO]','').strip()\n",
    "        line=line.split(': Scan Data: ')\n",
    "        date=line[0].split(' ')[0]\n",
    "        time=line[0].split(' ')[1]\n",
    "        ground_truth=line[1].split('in')[0].replace('Distance Travelled =','')\n",
    "        ground_truth=ground_truth.replace('Distance Travelled=','')\n",
    "        gr_co_ordinates=line[1].split('in')[1].split('x=')[1].split('y=')\n",
    "        gr_time=line[1].split('in')[1].split('seconds')[0]\n",
    "        returnVal={'Ground_Truth_Distance':float(ground_truth),'X_GR':float(gr_co_ordinates[0]),\n",
    "                   'Y_GR':float(gr_co_ordinates[1]),'time_taken':abs(float(gr_time))}\n",
    "        ifGroundTruth=True\n",
    "    return returnVal,ifGroundTruth\n",
    "\n",
    "\n",
    "def create_CSV(path,surface_type):\n",
    "    df_individiual = pd.DataFrame(columns=['Date','Time', 'X_ODOM','Y_ODOM','Theta','Velocity','Omega','Odometry_Distance','X_GR','Y_GR','Ground_Truth_Distance','Error','Surface_Type','time_taken']) \n",
    "    with open(path) as f:\n",
    "            f = f.readlines()\n",
    "            prevOdoData = None\n",
    "            groundTruthVal = []\n",
    "            x_gr = []\n",
    "            y_gr = []\n",
    "            time_taken=[]\n",
    "            errorVal=[]\n",
    "            for line in f:\n",
    "                if line.startswith( '[rosout][INFO]' ):\n",
    "                    if 'inital' in line:\n",
    "                        continue\n",
    "                    value_dict,ifGroundTruth = create_data_frame(line,surface_type)\n",
    "                    if not ifGroundTruth and value_dict != None:\n",
    "                        if(prevOdoData != None and len(groundTruthVal) > 0):\n",
    "                            prevOdoData[\"Ground_Truth_Distance\"] = sum(groundTruthVal)/len(groundTruthVal)\n",
    "                            prevOdoData[\"X_GR\"] = sum(x_gr)/len(x_gr)\n",
    "                            prevOdoData[\"Y_GR\"] = sum(y_gr)/len(y_gr)\n",
    "                            prevOdoData[\"time_taken\"] = sum(time_taken)/len(time_taken)\n",
    "#                             prevOdoData[\"Error\"] = sum(errorVal)/len(errorVal)\n",
    "                        df_individiual=df_individiual.append(prevOdoData,ignore_index=True)\n",
    "                        prevOdoData = value_dict\n",
    "                        groundTruthVal = []\n",
    "                        errorVal = []\n",
    "                    elif(value_dict != None):\n",
    "                        groundTruthVal.append(value_dict['Ground_Truth_Distance'])\n",
    "                        x_gr.append(value_dict['X_GR'])\n",
    "                        y_gr.append(value_dict['Y_GR'])\n",
    "                        time_taken.append(value_dict['time_taken'])\n",
    "#                         errorVal.append(value_dict['Error'])\n",
    "    return df_individiual"
   ]
  },
  {
   "cell_type": "code",
   "execution_count": 18,
   "metadata": {},
   "outputs": [],
   "source": [
    "path=\"ROOMBA/\"\n",
    "surface=os.listdir( path )\n",
    "df_all_data = pd.DataFrame(columns=['Date','Time', 'X_ODOM','Y_ODOM','Theta','Velocity','Omega','Odometry_Distance','X_GR','Y_GR','Ground_Truth_Distance','Error','Surface_Type','time_taken']) \n",
    "for surface_type in surface:\n",
    "    files=os.listdir( path+surface_type )\n",
    "    for file_index in range(len(files)):\n",
    "        path_test=path+surface_type+'/'+files[file_index]\n",
    "        df_individiual=create_CSV(path_test,surface_type)\n",
    "        df_individiual.to_csv('csv_check/'+surface_type+str(file_index)+'.csv')\n",
    "        df_all_data=df_all_data.append(df_individiual,ignore_index=True)"
   ]
  },
  {
   "cell_type": "code",
   "execution_count": null,
   "metadata": {},
   "outputs": [],
   "source": []
  },
  {
   "cell_type": "code",
   "execution_count": null,
   "metadata": {},
   "outputs": [],
   "source": []
  },
  {
   "cell_type": "code",
   "execution_count": null,
   "metadata": {},
   "outputs": [],
   "source": []
  }
 ],
 "metadata": {
  "kernelspec": {
   "display_name": "Python 3",
   "language": "python",
   "name": "python3"
  },
  "language_info": {
   "codemirror_mode": {
    "name": "ipython",
    "version": 3
   },
   "file_extension": ".py",
   "mimetype": "text/x-python",
   "name": "python",
   "nbconvert_exporter": "python",
   "pygments_lexer": "ipython3",
   "version": "3.8.5"
  }
 },
 "nbformat": 4,
 "nbformat_minor": 4
}
