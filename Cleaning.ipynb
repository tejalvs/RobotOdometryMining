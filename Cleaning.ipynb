{
  "nbformat": 4,
  "nbformat_minor": 0,
  "metadata": {
    "colab": {
      "name": "Cleaning.ipynb",
      "provenance": [],
      "collapsed_sections": [],
      "authorship_tag": "ABX9TyMn4Zb+my757oLqKXZZfnZ7",
      "include_colab_link": true
    },
    "kernelspec": {
      "name": "python3",
      "display_name": "Python 3"
    },
    "language_info": {
      "name": "python"
    },
    "accelerator": "TPU"
  },
  "cells": [
    {
      "cell_type": "markdown",
      "metadata": {
        "id": "view-in-github",
        "colab_type": "text"
      },
      "source": [
        "<a href=\"https://colab.research.google.com/github/tejalvs/RobotOdometryMining/blob/main/Cleaning.ipynb\" target=\"_parent\"><img src=\"https://colab.research.google.com/assets/colab-badge.svg\" alt=\"Open In Colab\"/></a>"
      ]
    },
    {
      "cell_type": "code",
      "metadata": {
        "id": "rRee891HHkdk"
      },
      "source": [
        "import os\n",
        "import pandas as pd\n",
        "import numpy as np\n",
        "import matplotlib.pyplot as plt\n",
        "import seaborn as sns\n",
        "from sklearn.metrics import confusion_matrix\n",
        "import plotly.express as px\n"
      ],
      "execution_count": 1,
      "outputs": []
    },
    {
      "cell_type": "code",
      "metadata": {
        "colab": {
          "base_uri": "https://localhost:8080/"
        },
        "id": "7svmuPDNID9A",
        "outputId": "e46078b6-5d25-4495-bdd6-7837c839d24c"
      },
      "source": [
        "from google.colab import drive\n",
        "drive.mount('/content/drive')"
      ],
      "execution_count": 2,
      "outputs": [
        {
          "output_type": "stream",
          "name": "stdout",
          "text": [
            "Mounted at /content/drive\n"
          ]
        }
      ]
    },
    {
      "cell_type": "code",
      "metadata": {
        "id": "lK6iRbZGH_ub"
      },
      "source": [
        "roomba_data=pd.read_csv('/content/drive/My Drive/Roomba_XY.csv')\n",
        "mobile_robot_data=pd.read_csv('/content/drive/My Drive/MobileRobot_XY.csv')"
      ],
      "execution_count": 3,
      "outputs": []
    },
    {
      "cell_type": "code",
      "metadata": {
        "colab": {
          "base_uri": "https://localhost:8080/",
          "height": 326
        },
        "id": "NlSvighjiUDa",
        "outputId": "261f6852-b530-4d93-bde3-ac122691bda1"
      },
      "source": [
        "roomba_data.head()"
      ],
      "execution_count": 4,
      "outputs": [
        {
          "output_type": "execute_result",
          "data": {
            "text/html": [
              "<div>\n",
              "<style scoped>\n",
              "    .dataframe tbody tr th:only-of-type {\n",
              "        vertical-align: middle;\n",
              "    }\n",
              "\n",
              "    .dataframe tbody tr th {\n",
              "        vertical-align: top;\n",
              "    }\n",
              "\n",
              "    .dataframe thead th {\n",
              "        text-align: right;\n",
              "    }\n",
              "</style>\n",
              "<table border=\"1\" class=\"dataframe\">\n",
              "  <thead>\n",
              "    <tr style=\"text-align: right;\">\n",
              "      <th></th>\n",
              "      <th>Unnamed: 0</th>\n",
              "      <th>X_ODOM</th>\n",
              "      <th>Y_ODOM</th>\n",
              "      <th>Theta</th>\n",
              "      <th>Velocity</th>\n",
              "      <th>Odometry_Distance</th>\n",
              "      <th>X_GR</th>\n",
              "      <th>Y_GR</th>\n",
              "      <th>Ground_Truth_Distance</th>\n",
              "      <th>Surface_Type</th>\n",
              "      <th>Time_To_Travel</th>\n",
              "      <th>Cumulative_Time</th>\n",
              "      <th>Cumulative_Theta</th>\n",
              "      <th>Series_ID</th>\n",
              "      <th>Distance_travelled_error</th>\n",
              "      <th>X_error</th>\n",
              "      <th>Y_error</th>\n",
              "      <th>timestamp</th>\n",
              "    </tr>\n",
              "  </thead>\n",
              "  <tbody>\n",
              "    <tr>\n",
              "      <th>0</th>\n",
              "      <td>0</td>\n",
              "      <td>0.0</td>\n",
              "      <td>0.0</td>\n",
              "      <td>0.0</td>\n",
              "      <td>0.1</td>\n",
              "      <td>0.0</td>\n",
              "      <td>NaN</td>\n",
              "      <td>NaN</td>\n",
              "      <td>NaN</td>\n",
              "      <td>CARPET</td>\n",
              "      <td>NaN</td>\n",
              "      <td>NaN</td>\n",
              "      <td>0.0</td>\n",
              "      <td>1.0</td>\n",
              "      <td>NaN</td>\n",
              "      <td>NaN</td>\n",
              "      <td>NaN</td>\n",
              "      <td>2021-10-27 15:41:32.103</td>\n",
              "    </tr>\n",
              "    <tr>\n",
              "      <th>1</th>\n",
              "      <td>1</td>\n",
              "      <td>0.0</td>\n",
              "      <td>0.0</td>\n",
              "      <td>0.0</td>\n",
              "      <td>0.1</td>\n",
              "      <td>0.0</td>\n",
              "      <td>NaN</td>\n",
              "      <td>NaN</td>\n",
              "      <td>NaN</td>\n",
              "      <td>CARPET</td>\n",
              "      <td>NaN</td>\n",
              "      <td>NaN</td>\n",
              "      <td>0.0</td>\n",
              "      <td>1.0</td>\n",
              "      <td>NaN</td>\n",
              "      <td>NaN</td>\n",
              "      <td>NaN</td>\n",
              "      <td>2021-10-27 15:41:32.149</td>\n",
              "    </tr>\n",
              "    <tr>\n",
              "      <th>2</th>\n",
              "      <td>2</td>\n",
              "      <td>0.0</td>\n",
              "      <td>0.0</td>\n",
              "      <td>0.0</td>\n",
              "      <td>0.1</td>\n",
              "      <td>0.0</td>\n",
              "      <td>NaN</td>\n",
              "      <td>NaN</td>\n",
              "      <td>NaN</td>\n",
              "      <td>CARPET</td>\n",
              "      <td>NaN</td>\n",
              "      <td>NaN</td>\n",
              "      <td>0.0</td>\n",
              "      <td>1.0</td>\n",
              "      <td>NaN</td>\n",
              "      <td>NaN</td>\n",
              "      <td>NaN</td>\n",
              "      <td>2021-10-27 15:41:33.212</td>\n",
              "    </tr>\n",
              "    <tr>\n",
              "      <th>3</th>\n",
              "      <td>3</td>\n",
              "      <td>0.0</td>\n",
              "      <td>0.0</td>\n",
              "      <td>0.0</td>\n",
              "      <td>0.1</td>\n",
              "      <td>0.0</td>\n",
              "      <td>NaN</td>\n",
              "      <td>NaN</td>\n",
              "      <td>NaN</td>\n",
              "      <td>CARPET</td>\n",
              "      <td>NaN</td>\n",
              "      <td>NaN</td>\n",
              "      <td>0.0</td>\n",
              "      <td>1.0</td>\n",
              "      <td>NaN</td>\n",
              "      <td>NaN</td>\n",
              "      <td>NaN</td>\n",
              "      <td>2021-10-27 15:41:33.227</td>\n",
              "    </tr>\n",
              "    <tr>\n",
              "      <th>4</th>\n",
              "      <td>4</td>\n",
              "      <td>0.0</td>\n",
              "      <td>0.0</td>\n",
              "      <td>0.0</td>\n",
              "      <td>0.1</td>\n",
              "      <td>0.0</td>\n",
              "      <td>NaN</td>\n",
              "      <td>NaN</td>\n",
              "      <td>NaN</td>\n",
              "      <td>CARPET</td>\n",
              "      <td>NaN</td>\n",
              "      <td>NaN</td>\n",
              "      <td>0.0</td>\n",
              "      <td>1.0</td>\n",
              "      <td>NaN</td>\n",
              "      <td>NaN</td>\n",
              "      <td>NaN</td>\n",
              "      <td>2021-10-27 15:41:33.243</td>\n",
              "    </tr>\n",
              "  </tbody>\n",
              "</table>\n",
              "</div>"
            ],
            "text/plain": [
              "   Unnamed: 0  X_ODOM  Y_ODOM  ...  X_error  Y_error                timestamp\n",
              "0           0     0.0     0.0  ...      NaN      NaN  2021-10-27 15:41:32.103\n",
              "1           1     0.0     0.0  ...      NaN      NaN  2021-10-27 15:41:32.149\n",
              "2           2     0.0     0.0  ...      NaN      NaN  2021-10-27 15:41:33.212\n",
              "3           3     0.0     0.0  ...      NaN      NaN  2021-10-27 15:41:33.227\n",
              "4           4     0.0     0.0  ...      NaN      NaN  2021-10-27 15:41:33.243\n",
              "\n",
              "[5 rows x 18 columns]"
            ]
          },
          "metadata": {},
          "execution_count": 4
        }
      ]
    },
    {
      "cell_type": "code",
      "metadata": {
        "colab": {
          "base_uri": "https://localhost:8080/",
          "height": 326
        },
        "id": "nhzCn3xKip2G",
        "outputId": "0039d449-43e2-4cbf-e3c2-062a395b3f13"
      },
      "source": [
        "mobile_robot_data.tail()"
      ],
      "execution_count": 5,
      "outputs": [
        {
          "output_type": "execute_result",
          "data": {
            "text/html": [
              "<div>\n",
              "<style scoped>\n",
              "    .dataframe tbody tr th:only-of-type {\n",
              "        vertical-align: middle;\n",
              "    }\n",
              "\n",
              "    .dataframe tbody tr th {\n",
              "        vertical-align: top;\n",
              "    }\n",
              "\n",
              "    .dataframe thead th {\n",
              "        text-align: right;\n",
              "    }\n",
              "</style>\n",
              "<table border=\"1\" class=\"dataframe\">\n",
              "  <thead>\n",
              "    <tr style=\"text-align: right;\">\n",
              "      <th></th>\n",
              "      <th>Unnamed: 0</th>\n",
              "      <th>X_ODOM</th>\n",
              "      <th>Y_ODOM</th>\n",
              "      <th>Theta</th>\n",
              "      <th>Velocity</th>\n",
              "      <th>Odometry_Distance</th>\n",
              "      <th>X_GR</th>\n",
              "      <th>Y_GR</th>\n",
              "      <th>Ground_Truth_Distance</th>\n",
              "      <th>Surface_Type</th>\n",
              "      <th>Time_To_Travel</th>\n",
              "      <th>Cumulative_Time</th>\n",
              "      <th>Cumulative_Theta</th>\n",
              "      <th>Series_ID</th>\n",
              "      <th>Distance_travelled_error</th>\n",
              "      <th>X_error</th>\n",
              "      <th>Y_error</th>\n",
              "      <th>timestamp</th>\n",
              "    </tr>\n",
              "  </thead>\n",
              "  <tbody>\n",
              "    <tr>\n",
              "      <th>14806</th>\n",
              "      <td>14806</td>\n",
              "      <td>2.077</td>\n",
              "      <td>-0.007</td>\n",
              "      <td>-2.449294e-16</td>\n",
              "      <td>0.3</td>\n",
              "      <td>2.078009</td>\n",
              "      <td>1.410241</td>\n",
              "      <td>-0.003200</td>\n",
              "      <td>2.113419</td>\n",
              "      <td>CARPET</td>\n",
              "      <td>9.502222</td>\n",
              "      <td>746.610621</td>\n",
              "      <td>-3.477997e-14</td>\n",
              "      <td>61.0</td>\n",
              "      <td>0.035410</td>\n",
              "      <td>0.666759</td>\n",
              "      <td>0.003800</td>\n",
              "      <td>2021-10-30 13:17:26.993</td>\n",
              "    </tr>\n",
              "    <tr>\n",
              "      <th>14807</th>\n",
              "      <td>14807</td>\n",
              "      <td>2.077</td>\n",
              "      <td>-0.007</td>\n",
              "      <td>-2.449294e-16</td>\n",
              "      <td>0.3</td>\n",
              "      <td>2.078009</td>\n",
              "      <td>1.414512</td>\n",
              "      <td>-0.003207</td>\n",
              "      <td>2.113332</td>\n",
              "      <td>CARPET</td>\n",
              "      <td>9.535574</td>\n",
              "      <td>756.146195</td>\n",
              "      <td>-3.502490e-14</td>\n",
              "      <td>61.0</td>\n",
              "      <td>0.035323</td>\n",
              "      <td>0.662488</td>\n",
              "      <td>0.003793</td>\n",
              "      <td>2021-10-30 13:17:27.092</td>\n",
              "    </tr>\n",
              "    <tr>\n",
              "      <th>14808</th>\n",
              "      <td>14808</td>\n",
              "      <td>2.077</td>\n",
              "      <td>-0.007</td>\n",
              "      <td>-2.449294e-16</td>\n",
              "      <td>0.3</td>\n",
              "      <td>2.078009</td>\n",
              "      <td>1.420822</td>\n",
              "      <td>-0.003216</td>\n",
              "      <td>2.113390</td>\n",
              "      <td>CARPET</td>\n",
              "      <td>9.585728</td>\n",
              "      <td>765.731923</td>\n",
              "      <td>-3.526983e-14</td>\n",
              "      <td>61.0</td>\n",
              "      <td>0.035381</td>\n",
              "      <td>0.656178</td>\n",
              "      <td>0.003784</td>\n",
              "      <td>2021-10-30 13:17:27.193</td>\n",
              "    </tr>\n",
              "    <tr>\n",
              "      <th>14809</th>\n",
              "      <td>14809</td>\n",
              "      <td>2.077</td>\n",
              "      <td>-0.007</td>\n",
              "      <td>-2.449294e-16</td>\n",
              "      <td>0.3</td>\n",
              "      <td>2.078009</td>\n",
              "      <td>1.427019</td>\n",
              "      <td>-0.003226</td>\n",
              "      <td>2.113390</td>\n",
              "      <td>CARPET</td>\n",
              "      <td>9.635704</td>\n",
              "      <td>775.367627</td>\n",
              "      <td>-3.551476e-14</td>\n",
              "      <td>61.0</td>\n",
              "      <td>0.035381</td>\n",
              "      <td>0.649981</td>\n",
              "      <td>0.003774</td>\n",
              "      <td>2021-10-30 13:17:27.290</td>\n",
              "    </tr>\n",
              "    <tr>\n",
              "      <th>14810</th>\n",
              "      <td>14810</td>\n",
              "      <td>2.077</td>\n",
              "      <td>-0.007</td>\n",
              "      <td>-2.449294e-16</td>\n",
              "      <td>0.3</td>\n",
              "      <td>2.078009</td>\n",
              "      <td>1.431090</td>\n",
              "      <td>-0.003232</td>\n",
              "      <td>2.113507</td>\n",
              "      <td>CARPET</td>\n",
              "      <td>9.669109</td>\n",
              "      <td>785.036736</td>\n",
              "      <td>-3.575969e-14</td>\n",
              "      <td>61.0</td>\n",
              "      <td>0.035498</td>\n",
              "      <td>0.645910</td>\n",
              "      <td>0.003768</td>\n",
              "      <td>2021-10-30 13:17:27.389</td>\n",
              "    </tr>\n",
              "  </tbody>\n",
              "</table>\n",
              "</div>"
            ],
            "text/plain": [
              "       Unnamed: 0  X_ODOM  Y_ODOM  ...   X_error   Y_error                timestamp\n",
              "14806       14806   2.077  -0.007  ...  0.666759  0.003800  2021-10-30 13:17:26.993\n",
              "14807       14807   2.077  -0.007  ...  0.662488  0.003793  2021-10-30 13:17:27.092\n",
              "14808       14808   2.077  -0.007  ...  0.656178  0.003784  2021-10-30 13:17:27.193\n",
              "14809       14809   2.077  -0.007  ...  0.649981  0.003774  2021-10-30 13:17:27.290\n",
              "14810       14810   2.077  -0.007  ...  0.645910  0.003768  2021-10-30 13:17:27.389\n",
              "\n",
              "[5 rows x 18 columns]"
            ]
          },
          "metadata": {},
          "execution_count": 5
        }
      ]
    },
    {
      "cell_type": "code",
      "metadata": {
        "colab": {
          "base_uri": "https://localhost:8080/"
        },
        "id": "UpdyupXeJhWh",
        "outputId": "f4cfafa6-bc4f-42a3-bd64-d652a45c2797"
      },
      "source": [
        "roomba_data = roomba_data.dropna()\n",
        "roomba_data.isnull().sum()"
      ],
      "execution_count": 6,
      "outputs": [
        {
          "output_type": "execute_result",
          "data": {
            "text/plain": [
              "Unnamed: 0                  0\n",
              "X_ODOM                      0\n",
              "Y_ODOM                      0\n",
              "Theta                       0\n",
              "Velocity                    0\n",
              "Odometry_Distance           0\n",
              "X_GR                        0\n",
              "Y_GR                        0\n",
              "Ground_Truth_Distance       0\n",
              "Surface_Type                0\n",
              "Time_To_Travel              0\n",
              "Cumulative_Time             0\n",
              "Cumulative_Theta            0\n",
              "Series_ID                   0\n",
              "Distance_travelled_error    0\n",
              "X_error                     0\n",
              "Y_error                     0\n",
              "timestamp                   0\n",
              "dtype: int64"
            ]
          },
          "metadata": {},
          "execution_count": 6
        }
      ]
    },
    {
      "cell_type": "code",
      "metadata": {
        "colab": {
          "base_uri": "https://localhost:8080/"
        },
        "id": "RcR-87yoJ6em",
        "outputId": "a1abd745-6403-4bb1-9164-b0be1beb8078"
      },
      "source": [
        "roomba_data['is_duplicate'] = roomba_data.duplicated()\n",
        "roomba_data['is_duplicate'].value_counts()"
      ],
      "execution_count": 7,
      "outputs": [
        {
          "output_type": "stream",
          "name": "stderr",
          "text": [
            "/usr/local/lib/python3.7/dist-packages/ipykernel_launcher.py:1: SettingWithCopyWarning:\n",
            "\n",
            "\n",
            "A value is trying to be set on a copy of a slice from a DataFrame.\n",
            "Try using .loc[row_indexer,col_indexer] = value instead\n",
            "\n",
            "See the caveats in the documentation: https://pandas.pydata.org/pandas-docs/stable/user_guide/indexing.html#returning-a-view-versus-a-copy\n",
            "\n"
          ]
        },
        {
          "output_type": "execute_result",
          "data": {
            "text/plain": [
              "False    3815\n",
              "Name: is_duplicate, dtype: int64"
            ]
          },
          "metadata": {},
          "execution_count": 7
        }
      ]
    },
    {
      "cell_type": "code",
      "metadata": {
        "id": "fAKv6ZRcKAIF"
      },
      "source": [
        "roomba_data=roomba_data.drop(columns=['is_duplicate'])"
      ],
      "execution_count": 8,
      "outputs": []
    },
    {
      "cell_type": "code",
      "metadata": {
        "colab": {
          "base_uri": "https://localhost:8080/"
        },
        "id": "n0arBFOMKEJT",
        "outputId": "82511474-a1a0-4748-b775-576569817b8c"
      },
      "source": [
        "\n",
        "mobile_robot_data = mobile_robot_data.dropna()\n",
        "mobile_robot_data.isnull().sum()"
      ],
      "execution_count": 9,
      "outputs": [
        {
          "output_type": "execute_result",
          "data": {
            "text/plain": [
              "Unnamed: 0                  0\n",
              "X_ODOM                      0\n",
              "Y_ODOM                      0\n",
              "Theta                       0\n",
              "Velocity                    0\n",
              "Odometry_Distance           0\n",
              "X_GR                        0\n",
              "Y_GR                        0\n",
              "Ground_Truth_Distance       0\n",
              "Surface_Type                0\n",
              "Time_To_Travel              0\n",
              "Cumulative_Time             0\n",
              "Cumulative_Theta            0\n",
              "Series_ID                   0\n",
              "Distance_travelled_error    0\n",
              "X_error                     0\n",
              "Y_error                     0\n",
              "timestamp                   0\n",
              "dtype: int64"
            ]
          },
          "metadata": {},
          "execution_count": 9
        }
      ]
    },
    {
      "cell_type": "code",
      "metadata": {
        "colab": {
          "base_uri": "https://localhost:8080/"
        },
        "id": "1_J9BQ8YKKaZ",
        "outputId": "078f5a3a-d3f4-4061-cb03-bbf32a88da5c"
      },
      "source": [
        "mobile_robot_data['is_duplicate'] = mobile_robot_data.duplicated()\n",
        "mobile_robot_data['is_duplicate'].value_counts()"
      ],
      "execution_count": 10,
      "outputs": [
        {
          "output_type": "stream",
          "name": "stderr",
          "text": [
            "/usr/local/lib/python3.7/dist-packages/ipykernel_launcher.py:1: SettingWithCopyWarning:\n",
            "\n",
            "\n",
            "A value is trying to be set on a copy of a slice from a DataFrame.\n",
            "Try using .loc[row_indexer,col_indexer] = value instead\n",
            "\n",
            "See the caveats in the documentation: https://pandas.pydata.org/pandas-docs/stable/user_guide/indexing.html#returning-a-view-versus-a-copy\n",
            "\n"
          ]
        },
        {
          "output_type": "execute_result",
          "data": {
            "text/plain": [
              "False    13318\n",
              "Name: is_duplicate, dtype: int64"
            ]
          },
          "metadata": {},
          "execution_count": 10
        }
      ]
    },
    {
      "cell_type": "code",
      "metadata": {
        "id": "wCDCn4BQKPn0"
      },
      "source": [
        "mobile_robot_data=mobile_robot_data.drop(columns=['is_duplicate'])"
      ],
      "execution_count": 11,
      "outputs": []
    },
    {
      "cell_type": "code",
      "metadata": {
        "id": "HIZUT0CIKSkV"
      },
      "source": [
        "mobile_robot_data.to_csv('/content/drive/My Drive/MobileRobot_XY_cleaned.csv', sep=',')\n",
        "roomba_data.to_csv('/content/drive/My Drive/RoombaData_XY_cleaned.csv', sep=',')"
      ],
      "execution_count": 12,
      "outputs": []
    }
  ]
}