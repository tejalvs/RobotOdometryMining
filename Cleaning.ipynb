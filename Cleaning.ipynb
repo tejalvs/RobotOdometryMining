{
  "nbformat": 4,
  "nbformat_minor": 0,
  "metadata": {
    "colab": {
      "name": "Cleaning.ipynb",
      "provenance": [],
      "collapsed_sections": [],
      "authorship_tag": "ABX9TyOpO7GVMxLQ2huRbJQXCPJA",
      "include_colab_link": true
    },
    "kernelspec": {
      "name": "python3",
      "display_name": "Python 3"
    },
    "language_info": {
      "name": "python"
    },
    "accelerator": "TPU"
  },
  "cells": [
    {
      "cell_type": "markdown",
      "metadata": {
        "id": "view-in-github",
        "colab_type": "text"
      },
      "source": [
        "<a href=\"https://colab.research.google.com/github/tejalvs/RobotOdometryMining/blob/main/Cleaning.ipynb\" target=\"_parent\"><img src=\"https://colab.research.google.com/assets/colab-badge.svg\" alt=\"Open In Colab\"/></a>"
      ]
    },
    {
      "cell_type": "code",
      "metadata": {
        "id": "rRee891HHkdk"
      },
      "source": [
        "import os\n",
        "import pandas as pd\n",
        "import numpy as np\n",
        "import matplotlib.pyplot as plt\n",
        "import seaborn as sns\n",
        "from sklearn.metrics import confusion_matrix\n",
        "import plotly.express as px\n"
      ],
      "execution_count": 11,
      "outputs": []
    },
    {
      "cell_type": "code",
      "metadata": {
        "colab": {
          "base_uri": "https://localhost:8080/"
        },
        "id": "7svmuPDNID9A",
        "outputId": "67234140-8e91-4e42-b217-a7854aa76df5"
      },
      "source": [
        "from google.colab import drive\n",
        "drive.mount('/content/drive')"
      ],
      "execution_count": 13,
      "outputs": [
        {
          "output_type": "stream",
          "name": "stdout",
          "text": [
            "Drive already mounted at /content/drive; to attempt to forcibly remount, call drive.mount(\"/content/drive\", force_remount=True).\n"
          ]
        }
      ]
    },
    {
      "cell_type": "code",
      "metadata": {
        "id": "lK6iRbZGH_ub"
      },
      "source": [
        "roomba_data=pd.read_csv('/content/drive/My Drive/Roomba_XY.csv')\n",
        "mobile_robot_data=pd.read_csv('/content/drive/My Drive/MobileRobot_XY.csv')"
      ],
      "execution_count": 14,
      "outputs": []
    },
    {
      "cell_type": "code",
      "metadata": {
        "colab": {
          "base_uri": "https://localhost:8080/"
        },
        "id": "UpdyupXeJhWh",
        "outputId": "9f52331c-a83d-4938-b008-b21dddf6ba77"
      },
      "source": [
        "roomba_data = roomba_data.dropna()\n",
        "roomba_data.isnull().sum()"
      ],
      "execution_count": 19,
      "outputs": [
        {
          "output_type": "execute_result",
          "data": {
            "text/plain": [
              "Unnamed: 0                  0\n",
              "X_ODOM                      0\n",
              "Y_ODOM                      0\n",
              "Theta                       0\n",
              "Velocity                    0\n",
              "Odometry_Distance           0\n",
              "X_GR                        0\n",
              "Y_GR                        0\n",
              "Ground_Truth_Distance       0\n",
              "Surface_Type                0\n",
              "Time_To_Travel              0\n",
              "Cumulative_Time             0\n",
              "Cumulative_Theta            0\n",
              "Distance_travelled_error    0\n",
              "X_error                     0\n",
              "Y_error                     0\n",
              "timestamp                   0\n",
              "dtype: int64"
            ]
          },
          "metadata": {},
          "execution_count": 19
        }
      ]
    },
    {
      "cell_type": "code",
      "metadata": {
        "colab": {
          "base_uri": "https://localhost:8080/"
        },
        "id": "RcR-87yoJ6em",
        "outputId": "e327ba99-8916-4e65-bb49-2c98196d9d8c"
      },
      "source": [
        "roomba_data['is_duplicate'] = roomba_data.duplicated()\n",
        "roomba_data['is_duplicate'].value_counts()"
      ],
      "execution_count": 20,
      "outputs": [
        {
          "output_type": "execute_result",
          "data": {
            "text/plain": [
              "False    3815\n",
              "Name: is_duplicate, dtype: int64"
            ]
          },
          "metadata": {},
          "execution_count": 20
        }
      ]
    },
    {
      "cell_type": "code",
      "metadata": {
        "id": "fAKv6ZRcKAIF"
      },
      "source": [
        "roomba_data=roomba_data.drop(columns=['is_duplicate'])"
      ],
      "execution_count": 21,
      "outputs": []
    },
    {
      "cell_type": "code",
      "metadata": {
        "colab": {
          "base_uri": "https://localhost:8080/"
        },
        "id": "n0arBFOMKEJT",
        "outputId": "599f9baa-6f16-48f9-89a9-ea8af35a7fe7"
      },
      "source": [
        "\n",
        "mobile_robot_data = mobile_robot_data.dropna()\n",
        "mobile_robot_data.isnull().sum()"
      ],
      "execution_count": 22,
      "outputs": [
        {
          "output_type": "execute_result",
          "data": {
            "text/plain": [
              "Unnamed: 0                  0\n",
              "X_ODOM                      0\n",
              "Y_ODOM                      0\n",
              "Theta                       0\n",
              "Velocity                    0\n",
              "Odometry_Distance           0\n",
              "X_GR                        0\n",
              "Y_GR                        0\n",
              "Ground_Truth_Distance       0\n",
              "Surface_Type                0\n",
              "Time_To_Travel              0\n",
              "Cumulative_Time             0\n",
              "Cumulative_Theta            0\n",
              "Distance_travelled_error    0\n",
              "X_error                     0\n",
              "Y_error                     0\n",
              "timestamp                   0\n",
              "dtype: int64"
            ]
          },
          "metadata": {},
          "execution_count": 22
        }
      ]
    },
    {
      "cell_type": "code",
      "metadata": {
        "colab": {
          "base_uri": "https://localhost:8080/"
        },
        "id": "1_J9BQ8YKKaZ",
        "outputId": "d571a402-6dde-4ca1-c02c-5670b3ed6d39"
      },
      "source": [
        "mobile_robot_data['is_duplicate'] = mobile_robot_data.duplicated()\n",
        "mobile_robot_data['is_duplicate'].value_counts()"
      ],
      "execution_count": 23,
      "outputs": [
        {
          "output_type": "stream",
          "name": "stderr",
          "text": [
            "/usr/local/lib/python3.7/dist-packages/ipykernel_launcher.py:1: SettingWithCopyWarning:\n",
            "\n",
            "\n",
            "A value is trying to be set on a copy of a slice from a DataFrame.\n",
            "Try using .loc[row_indexer,col_indexer] = value instead\n",
            "\n",
            "See the caveats in the documentation: https://pandas.pydata.org/pandas-docs/stable/user_guide/indexing.html#returning-a-view-versus-a-copy\n",
            "\n"
          ]
        },
        {
          "output_type": "execute_result",
          "data": {
            "text/plain": [
              "False    13318\n",
              "Name: is_duplicate, dtype: int64"
            ]
          },
          "metadata": {},
          "execution_count": 23
        }
      ]
    },
    {
      "cell_type": "code",
      "metadata": {
        "id": "wCDCn4BQKPn0"
      },
      "source": [
        "mobile_robot_data=mobile_robot_data.drop(columns=['is_duplicate'])"
      ],
      "execution_count": 24,
      "outputs": []
    },
    {
      "cell_type": "code",
      "metadata": {
        "id": "HIZUT0CIKSkV"
      },
      "source": [
        "mobile_robot_data.to_csv('/content/drive/My Drive/MobileRobot_XY_cleaned.csv', sep=',')\n",
        "roomba_data.to_csv('/content/drive/My Drive/RoombaData_XY_cleaned.csv', sep=',')"
      ],
      "execution_count": 25,
      "outputs": []
    }
  ]
}